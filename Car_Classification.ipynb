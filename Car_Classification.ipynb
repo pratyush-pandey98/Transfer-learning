{
  "nbformat": 4,
  "nbformat_minor": 0,
  "metadata": {
    "colab": {
      "name": "Car Classification.ipynb",
      "provenance": [],
      "authorship_tag": "ABX9TyOOdvkBjkRh5kYu+zQLipfT",
      "include_colab_link": true
    },
    "kernelspec": {
      "name": "python3",
      "display_name": "Python 3"
    }
  },
  "cells": [
    {
      "cell_type": "markdown",
      "metadata": {
        "id": "view-in-github",
        "colab_type": "text"
      },
      "source": [
        "<a href=\"https://colab.research.google.com/github/pratyush-pandey98/Transfer-learning/blob/master/Car_Classification.ipynb\" target=\"_parent\"><img src=\"https://colab.research.google.com/assets/colab-badge.svg\" alt=\"Open In Colab\"/></a>"
      ]
    },
    {
      "cell_type": "code",
      "metadata": {
        "id": "kJvPqUCLa1cj",
        "colab_type": "code",
        "colab": {
          "base_uri": "https://localhost:8080/",
          "height": 130
        },
        "outputId": "09083092-a34c-4601-ec0b-28509e9f8970"
      },
      "source": [
        "from google.colab import drive\n",
        "drive.mount('/content/drive')"
      ],
      "execution_count": 1,
      "outputs": [
        {
          "output_type": "stream",
          "text": [
            "Go to this URL in a browser: https://accounts.google.com/o/oauth2/auth?client_id=947318989803-6bn6qk8qdgf4n4g3pfee6491hc0brc4i.apps.googleusercontent.com&redirect_uri=urn%3aietf%3awg%3aoauth%3a2.0%3aoob&response_type=code&scope=email%20https%3a%2f%2fwww.googleapis.com%2fauth%2fdocs.test%20https%3a%2f%2fwww.googleapis.com%2fauth%2fdrive%20https%3a%2f%2fwww.googleapis.com%2fauth%2fdrive.photos.readonly%20https%3a%2f%2fwww.googleapis.com%2fauth%2fpeopleapi.readonly\n",
            "\n",
            "Enter your authorization code:\n",
            "··········\n",
            "Mounted at /content/drive\n"
          ],
          "name": "stdout"
        }
      ]
    },
    {
      "cell_type": "code",
      "metadata": {
        "id": "rIXuHMDWbU-y",
        "colab_type": "code",
        "colab": {
          "base_uri": "https://localhost:8080/",
          "height": 36
        },
        "outputId": "1e3a1f32-8f1b-42ed-d24d-fb0f1492c9ad"
      },
      "source": [
        "%tensorflow_version 2.x\n",
        "import pandas as pd\n",
        "import numpy as np\n",
        "import os\n",
        "import keras\n",
        "import matplotlib.pyplot as plt\n",
        "from keras.layers import Dense,GlobalAveragePooling2D\n",
        "from keras.applications import MobileNet\n",
        "from keras.preprocessing import image\n",
        "from keras.applications.mobilenet import preprocess_input\n",
        "from keras.preprocessing.image import ImageDataGenerator\n",
        "from keras.models import Model\n",
        "from keras.optimizers import Adam"
      ],
      "execution_count": 27,
      "outputs": [
        {
          "output_type": "stream",
          "text": [
            "TensorFlow is already loaded. Please restart the runtime to change versions.\n"
          ],
          "name": "stdout"
        }
      ]
    },
    {
      "cell_type": "code",
      "metadata": {
        "id": "LCVmltKNblHm",
        "colab_type": "code",
        "colab": {
          "base_uri": "https://localhost:8080/",
          "height": 74
        },
        "outputId": "e33dd0c1-d317-47aa-9f60-b0493a39cf12"
      },
      "source": [
        "base_model=MobileNet(weights='imagenet',include_top=False) #imports the mobilenet model and discards the last 1000 neuron layer.\n",
        "\n",
        "#for layer in base_model.layers: \n",
        "#       layer.trainable = False\n",
        "\n",
        "#OR\n",
        "\n",
        "#x=no_of_layers     <= can be determined\n",
        "#for layer in model.layers[:x]:\n",
        "#    layer.trainable=False\n",
        "#for layer in model.layers[x:]:\n",
        "#    layer.trainable=True\n",
        "\n",
        "x=base_model.output\n",
        "x=GlobalAveragePooling2D()(x)\n",
        "x=Dense(1024,activation='relu')(x) #we add dense layers so that the model can learn more complex functions and classify for better results.\n",
        "x=Dense(1024,activation='relu')(x) #dense layer 2\n",
        "x=Dense(512,activation='relu')(x) #dense layer 3\n",
        "preds=Dense(3,activation='softmax')(x) #final layer with softmax activation"
      ],
      "execution_count": 28,
      "outputs": [
        {
          "output_type": "stream",
          "text": [
            "/usr/local/lib/python3.6/dist-packages/keras_applications/mobilenet.py:207: UserWarning: `input_shape` is undefined or non-square, or `rows` is not in [128, 160, 192, 224]. Weights for input shape (224, 224) will be loaded as the default.\n",
            "  warnings.warn('`input_shape` is undefined or non-square, '\n"
          ],
          "name": "stderr"
        }
      ]
    },
    {
      "cell_type": "code",
      "metadata": {
        "id": "yWOPkEkpb8ma",
        "colab_type": "code",
        "colab": {}
      },
      "source": [
        "model=Model(inputs=base_model.input,outputs=preds)\n",
        "#[224,224] rgb image input\n",
        "#classification output"
      ],
      "execution_count": 0,
      "outputs": []
    },
    {
      "cell_type": "code",
      "metadata": {
        "id": "Ix09ucmwc7zb",
        "colab_type": "code",
        "colab": {
          "base_uri": "https://localhost:8080/",
          "height": 54
        },
        "outputId": "f573e177-9ecb-4cb3-f4e9-01ff48d80a98"
      },
      "source": [
        "train_datagen=ImageDataGenerator(preprocessing_function=preprocess_input)\n",
        "val_datagen=ImageDataGenerator(preprocessing_function=preprocess_input)\n",
        "\n",
        "train_generator=train_datagen.flow_from_directory('/content/drive/My Drive/dataset_v2/train',\n",
        "                                                 target_size=(224,224),\n",
        "                                                 color_mode='rgb',\n",
        "                                                 batch_size=32,\n",
        "                                                 class_mode='categorical',\n",
        "                                                 shuffle=True)\n",
        "\n",
        "val_generator=val_datagen.flow_from_directory('/content/drive/My Drive/dataset_v2/test',\n",
        "                                                 target_size=(224,224),\n",
        "                                                 color_mode='rgb',\n",
        "                                                 batch_size=32,\n",
        "                                                 class_mode='categorical',\n",
        "                                                 shuffle=True)\n"
      ],
      "execution_count": 30,
      "outputs": [
        {
          "output_type": "stream",
          "text": [
            "Found 369 images belonging to 3 classes.\n",
            "Found 93 images belonging to 3 classes.\n"
          ],
          "name": "stdout"
        }
      ]
    },
    {
      "cell_type": "code",
      "metadata": {
        "id": "RFUkl-qSCZ4A",
        "colab_type": "code",
        "colab": {
          "base_uri": "https://localhost:8080/",
          "height": 1000
        },
        "outputId": "4452c919-1304-4870-9ac0-f0748a66ddd7"
      },
      "source": [
        "model.compile(optimizer='Adam',loss='categorical_crossentropy',metrics=['accuracy'])\n",
        "# Adam optimizer\n",
        "# loss function will be categorical cross entropy\n",
        "# evaluation metric will be accuracy\n",
        "model.summary()"
      ],
      "execution_count": 31,
      "outputs": [
        {
          "output_type": "stream",
          "text": [
            "Model: \"model_3\"\n",
            "_________________________________________________________________\n",
            "Layer (type)                 Output Shape              Param #   \n",
            "=================================================================\n",
            "input_4 (InputLayer)         (None, None, None, 3)     0         \n",
            "_________________________________________________________________\n",
            "conv1_pad (ZeroPadding2D)    (None, None, None, 3)     0         \n",
            "_________________________________________________________________\n",
            "conv1 (Conv2D)               (None, None, None, 32)    864       \n",
            "_________________________________________________________________\n",
            "conv1_bn (BatchNormalization (None, None, None, 32)    128       \n",
            "_________________________________________________________________\n",
            "conv1_relu (ReLU)            (None, None, None, 32)    0         \n",
            "_________________________________________________________________\n",
            "conv_dw_1 (DepthwiseConv2D)  (None, None, None, 32)    288       \n",
            "_________________________________________________________________\n",
            "conv_dw_1_bn (BatchNormaliza (None, None, None, 32)    128       \n",
            "_________________________________________________________________\n",
            "conv_dw_1_relu (ReLU)        (None, None, None, 32)    0         \n",
            "_________________________________________________________________\n",
            "conv_pw_1 (Conv2D)           (None, None, None, 64)    2048      \n",
            "_________________________________________________________________\n",
            "conv_pw_1_bn (BatchNormaliza (None, None, None, 64)    256       \n",
            "_________________________________________________________________\n",
            "conv_pw_1_relu (ReLU)        (None, None, None, 64)    0         \n",
            "_________________________________________________________________\n",
            "conv_pad_2 (ZeroPadding2D)   (None, None, None, 64)    0         \n",
            "_________________________________________________________________\n",
            "conv_dw_2 (DepthwiseConv2D)  (None, None, None, 64)    576       \n",
            "_________________________________________________________________\n",
            "conv_dw_2_bn (BatchNormaliza (None, None, None, 64)    256       \n",
            "_________________________________________________________________\n",
            "conv_dw_2_relu (ReLU)        (None, None, None, 64)    0         \n",
            "_________________________________________________________________\n",
            "conv_pw_2 (Conv2D)           (None, None, None, 128)   8192      \n",
            "_________________________________________________________________\n",
            "conv_pw_2_bn (BatchNormaliza (None, None, None, 128)   512       \n",
            "_________________________________________________________________\n",
            "conv_pw_2_relu (ReLU)        (None, None, None, 128)   0         \n",
            "_________________________________________________________________\n",
            "conv_dw_3 (DepthwiseConv2D)  (None, None, None, 128)   1152      \n",
            "_________________________________________________________________\n",
            "conv_dw_3_bn (BatchNormaliza (None, None, None, 128)   512       \n",
            "_________________________________________________________________\n",
            "conv_dw_3_relu (ReLU)        (None, None, None, 128)   0         \n",
            "_________________________________________________________________\n",
            "conv_pw_3 (Conv2D)           (None, None, None, 128)   16384     \n",
            "_________________________________________________________________\n",
            "conv_pw_3_bn (BatchNormaliza (None, None, None, 128)   512       \n",
            "_________________________________________________________________\n",
            "conv_pw_3_relu (ReLU)        (None, None, None, 128)   0         \n",
            "_________________________________________________________________\n",
            "conv_pad_4 (ZeroPadding2D)   (None, None, None, 128)   0         \n",
            "_________________________________________________________________\n",
            "conv_dw_4 (DepthwiseConv2D)  (None, None, None, 128)   1152      \n",
            "_________________________________________________________________\n",
            "conv_dw_4_bn (BatchNormaliza (None, None, None, 128)   512       \n",
            "_________________________________________________________________\n",
            "conv_dw_4_relu (ReLU)        (None, None, None, 128)   0         \n",
            "_________________________________________________________________\n",
            "conv_pw_4 (Conv2D)           (None, None, None, 256)   32768     \n",
            "_________________________________________________________________\n",
            "conv_pw_4_bn (BatchNormaliza (None, None, None, 256)   1024      \n",
            "_________________________________________________________________\n",
            "conv_pw_4_relu (ReLU)        (None, None, None, 256)   0         \n",
            "_________________________________________________________________\n",
            "conv_dw_5 (DepthwiseConv2D)  (None, None, None, 256)   2304      \n",
            "_________________________________________________________________\n",
            "conv_dw_5_bn (BatchNormaliza (None, None, None, 256)   1024      \n",
            "_________________________________________________________________\n",
            "conv_dw_5_relu (ReLU)        (None, None, None, 256)   0         \n",
            "_________________________________________________________________\n",
            "conv_pw_5 (Conv2D)           (None, None, None, 256)   65536     \n",
            "_________________________________________________________________\n",
            "conv_pw_5_bn (BatchNormaliza (None, None, None, 256)   1024      \n",
            "_________________________________________________________________\n",
            "conv_pw_5_relu (ReLU)        (None, None, None, 256)   0         \n",
            "_________________________________________________________________\n",
            "conv_pad_6 (ZeroPadding2D)   (None, None, None, 256)   0         \n",
            "_________________________________________________________________\n",
            "conv_dw_6 (DepthwiseConv2D)  (None, None, None, 256)   2304      \n",
            "_________________________________________________________________\n",
            "conv_dw_6_bn (BatchNormaliza (None, None, None, 256)   1024      \n",
            "_________________________________________________________________\n",
            "conv_dw_6_relu (ReLU)        (None, None, None, 256)   0         \n",
            "_________________________________________________________________\n",
            "conv_pw_6 (Conv2D)           (None, None, None, 512)   131072    \n",
            "_________________________________________________________________\n",
            "conv_pw_6_bn (BatchNormaliza (None, None, None, 512)   2048      \n",
            "_________________________________________________________________\n",
            "conv_pw_6_relu (ReLU)        (None, None, None, 512)   0         \n",
            "_________________________________________________________________\n",
            "conv_dw_7 (DepthwiseConv2D)  (None, None, None, 512)   4608      \n",
            "_________________________________________________________________\n",
            "conv_dw_7_bn (BatchNormaliza (None, None, None, 512)   2048      \n",
            "_________________________________________________________________\n",
            "conv_dw_7_relu (ReLU)        (None, None, None, 512)   0         \n",
            "_________________________________________________________________\n",
            "conv_pw_7 (Conv2D)           (None, None, None, 512)   262144    \n",
            "_________________________________________________________________\n",
            "conv_pw_7_bn (BatchNormaliza (None, None, None, 512)   2048      \n",
            "_________________________________________________________________\n",
            "conv_pw_7_relu (ReLU)        (None, None, None, 512)   0         \n",
            "_________________________________________________________________\n",
            "conv_dw_8 (DepthwiseConv2D)  (None, None, None, 512)   4608      \n",
            "_________________________________________________________________\n",
            "conv_dw_8_bn (BatchNormaliza (None, None, None, 512)   2048      \n",
            "_________________________________________________________________\n",
            "conv_dw_8_relu (ReLU)        (None, None, None, 512)   0         \n",
            "_________________________________________________________________\n",
            "conv_pw_8 (Conv2D)           (None, None, None, 512)   262144    \n",
            "_________________________________________________________________\n",
            "conv_pw_8_bn (BatchNormaliza (None, None, None, 512)   2048      \n",
            "_________________________________________________________________\n",
            "conv_pw_8_relu (ReLU)        (None, None, None, 512)   0         \n",
            "_________________________________________________________________\n",
            "conv_dw_9 (DepthwiseConv2D)  (None, None, None, 512)   4608      \n",
            "_________________________________________________________________\n",
            "conv_dw_9_bn (BatchNormaliza (None, None, None, 512)   2048      \n",
            "_________________________________________________________________\n",
            "conv_dw_9_relu (ReLU)        (None, None, None, 512)   0         \n",
            "_________________________________________________________________\n",
            "conv_pw_9 (Conv2D)           (None, None, None, 512)   262144    \n",
            "_________________________________________________________________\n",
            "conv_pw_9_bn (BatchNormaliza (None, None, None, 512)   2048      \n",
            "_________________________________________________________________\n",
            "conv_pw_9_relu (ReLU)        (None, None, None, 512)   0         \n",
            "_________________________________________________________________\n",
            "conv_dw_10 (DepthwiseConv2D) (None, None, None, 512)   4608      \n",
            "_________________________________________________________________\n",
            "conv_dw_10_bn (BatchNormaliz (None, None, None, 512)   2048      \n",
            "_________________________________________________________________\n",
            "conv_dw_10_relu (ReLU)       (None, None, None, 512)   0         \n",
            "_________________________________________________________________\n",
            "conv_pw_10 (Conv2D)          (None, None, None, 512)   262144    \n",
            "_________________________________________________________________\n",
            "conv_pw_10_bn (BatchNormaliz (None, None, None, 512)   2048      \n",
            "_________________________________________________________________\n",
            "conv_pw_10_relu (ReLU)       (None, None, None, 512)   0         \n",
            "_________________________________________________________________\n",
            "conv_dw_11 (DepthwiseConv2D) (None, None, None, 512)   4608      \n",
            "_________________________________________________________________\n",
            "conv_dw_11_bn (BatchNormaliz (None, None, None, 512)   2048      \n",
            "_________________________________________________________________\n",
            "conv_dw_11_relu (ReLU)       (None, None, None, 512)   0         \n",
            "_________________________________________________________________\n",
            "conv_pw_11 (Conv2D)          (None, None, None, 512)   262144    \n",
            "_________________________________________________________________\n",
            "conv_pw_11_bn (BatchNormaliz (None, None, None, 512)   2048      \n",
            "_________________________________________________________________\n",
            "conv_pw_11_relu (ReLU)       (None, None, None, 512)   0         \n",
            "_________________________________________________________________\n",
            "conv_pad_12 (ZeroPadding2D)  (None, None, None, 512)   0         \n",
            "_________________________________________________________________\n",
            "conv_dw_12 (DepthwiseConv2D) (None, None, None, 512)   4608      \n",
            "_________________________________________________________________\n",
            "conv_dw_12_bn (BatchNormaliz (None, None, None, 512)   2048      \n",
            "_________________________________________________________________\n",
            "conv_dw_12_relu (ReLU)       (None, None, None, 512)   0         \n",
            "_________________________________________________________________\n",
            "conv_pw_12 (Conv2D)          (None, None, None, 1024)  524288    \n",
            "_________________________________________________________________\n",
            "conv_pw_12_bn (BatchNormaliz (None, None, None, 1024)  4096      \n",
            "_________________________________________________________________\n",
            "conv_pw_12_relu (ReLU)       (None, None, None, 1024)  0         \n",
            "_________________________________________________________________\n",
            "conv_dw_13 (DepthwiseConv2D) (None, None, None, 1024)  9216      \n",
            "_________________________________________________________________\n",
            "conv_dw_13_bn (BatchNormaliz (None, None, None, 1024)  4096      \n",
            "_________________________________________________________________\n",
            "conv_dw_13_relu (ReLU)       (None, None, None, 1024)  0         \n",
            "_________________________________________________________________\n",
            "conv_pw_13 (Conv2D)          (None, None, None, 1024)  1048576   \n",
            "_________________________________________________________________\n",
            "conv_pw_13_bn (BatchNormaliz (None, None, None, 1024)  4096      \n",
            "_________________________________________________________________\n",
            "conv_pw_13_relu (ReLU)       (None, None, None, 1024)  0         \n",
            "_________________________________________________________________\n",
            "global_average_pooling2d_4 ( (None, 1024)              0         \n",
            "_________________________________________________________________\n",
            "dense_9 (Dense)              (None, 1024)              1049600   \n",
            "_________________________________________________________________\n",
            "dense_10 (Dense)             (None, 1024)              1049600   \n",
            "_________________________________________________________________\n",
            "dense_11 (Dense)             (None, 512)               524800    \n",
            "_________________________________________________________________\n",
            "dense_12 (Dense)             (None, 3)                 1539      \n",
            "=================================================================\n",
            "Total params: 5,854,403\n",
            "Trainable params: 5,832,515\n",
            "Non-trainable params: 21,888\n",
            "_________________________________________________________________\n"
          ],
          "name": "stdout"
        }
      ]
    },
    {
      "cell_type": "code",
      "metadata": {
        "id": "J4t3VPsUmaSV",
        "colab_type": "code",
        "colab": {
          "base_uri": "https://localhost:8080/",
          "height": 388
        },
        "outputId": "244bc2d2-9564-4561-ceaa-17e8b52f837d"
      },
      "source": [
        "step_size_train=train_generator.n//train_generator.batch_size\n",
        "step_size_val=val_generator.n//val_generator.batch_size\n",
        "history= model.fit_generator(generator=train_generator,\n",
        "                   steps_per_epoch=step_size_train,\n",
        "                   epochs=10,\n",
        "                   validation_data=val_generator,\n",
        "                   validation_steps=step_size_val)"
      ],
      "execution_count": 32,
      "outputs": [
        {
          "output_type": "stream",
          "text": [
            "Epoch 1/10\n",
            "11/11 [==============================] - 107s 10s/step - loss: 1.2152 - acc: 0.6434 - val_loss: 1.5309 - val_acc: 0.6406\n",
            "Epoch 2/10\n",
            "11/11 [==============================] - 86s 8s/step - loss: 0.3328 - acc: 0.8836 - val_loss: 3.1220 - val_acc: 0.6393\n",
            "Epoch 3/10\n",
            "11/11 [==============================] - 86s 8s/step - loss: 0.1144 - acc: 0.9515 - val_loss: 1.0601 - val_acc: 0.8197\n",
            "Epoch 4/10\n",
            "11/11 [==============================] - 88s 8s/step - loss: 0.1092 - acc: 0.9631 - val_loss: 2.0316 - val_acc: 0.7812\n",
            "Epoch 5/10\n",
            "11/11 [==============================] - 86s 8s/step - loss: 0.2576 - acc: 0.9658 - val_loss: 5.4679 - val_acc: 0.6230\n",
            "Epoch 6/10\n",
            "11/11 [==============================] - 86s 8s/step - loss: 0.1492 - acc: 0.9583 - val_loss: 5.5814 - val_acc: 0.5738\n",
            "Epoch 7/10\n",
            "11/11 [==============================] - 83s 8s/step - loss: 0.1444 - acc: 0.9525 - val_loss: 4.5792 - val_acc: 0.5938\n",
            "Epoch 8/10\n",
            "11/11 [==============================] - 86s 8s/step - loss: 0.1161 - acc: 0.9686 - val_loss: 1.4352 - val_acc: 0.7213\n",
            "Epoch 9/10\n",
            "11/11 [==============================] - 89s 8s/step - loss: 0.0676 - acc: 0.9801 - val_loss: 2.9746 - val_acc: 0.6721\n",
            "Epoch 10/10\n",
            "11/11 [==============================] - 86s 8s/step - loss: 0.0257 - acc: 0.9943 - val_loss: 2.6564 - val_acc: 0.7188\n"
          ],
          "name": "stdout"
        }
      ]
    },
    {
      "cell_type": "code",
      "metadata": {
        "id": "SbNcxqmp8AiD",
        "colab_type": "code",
        "colab": {
          "base_uri": "https://localhost:8080/",
          "height": 499
        },
        "outputId": "f2c08a0b-7641-441b-a51f-ad72b1daf6c5"
      },
      "source": [
        "acc = history.history['acc']\n",
        "val_acc = history.history['val_acc']\n",
        "\n",
        "loss = history.history['loss']\n",
        "val_loss = history.history['val_loss']\n",
        "\n",
        "epochs_range = range(len(acc))\n",
        "\n",
        "plt.figure(figsize=(8, 8))\n",
        "plt.subplot(1, 2, 1)\n",
        "plt.plot(epochs_range, acc, label='Training Accuracy')\n",
        "plt.plot(epochs_range, val_acc, label='Validation Accuracy')\n",
        "plt.legend(loc='lower right')\n",
        "plt.title('Training and Validation Accuracy')\n",
        "\n",
        "plt.subplot(1, 2, 2)\n",
        "plt.plot(epochs_range, loss, label='Training Loss')\n",
        "plt.plot(epochs_range, val_loss, label='Validation Loss')\n",
        "plt.legend(loc='upper right')\n",
        "plt.title('Training and Validation Loss')\n",
        "plt.show()"
      ],
      "execution_count": 34,
      "outputs": [
        {
          "output_type": "display_data",
          "data": {
            "image/png": "[encoded data removed]",
            "text/plain": [
              "<Figure size 576x576 with 2 Axes>"
            ]
          },
          "metadata": {
            "tags": []
          }
        }
      ]
    },
    {
      "cell_type": "code",
      "metadata": {
        "id": "M1dsiWfWy_ji",
        "colab_type": "code",
        "colab": {
          "base_uri": "https://localhost:8080/",
          "height": 36
        },
        "outputId": "46ea9f9b-4b2c-46f1-e515-c79c83701bf0"
      },
      "source": [
        "def load_image(img_path, show=False):\n",
        "\n",
        "    img = image.load_img(img_path, target_size=(150, 150))\n",
        "    img_tensor = image.img_to_array(img)                    # (height, width, channels)\n",
        "    img_tensor = np.expand_dims(img_tensor, axis=0)         # (1, height, width, channels), add a dimension because the model expects this shape: (batch_size, height, width, channels)\n",
        "    img_tensor /= 255.                                      # imshow expects values in the range [0, 1]\n",
        "\n",
        "    if show:\n",
        "        plt.imshow(img_tensor[0])                           \n",
        "        plt.axis('off')\n",
        "        plt.show()\n",
        "\n",
        "    return img_tensor\n",
        "\n",
        "categories=['Honda','Hyundai','Mercedes']\n",
        "img_path1 = '/content/drive/My Drive/t01.png'  #Image is Hyundai\n",
        "new_image1 = load_image(img_path1)\n",
        "pred1 = model.predict(new_image1)\n",
        "categories[np.argmax(pred1)]"
      ],
      "execution_count": 36,
      "outputs": [
        {
          "output_type": "execute_result",
          "data": {
            "text/plain": [
              "'Hyundai'"
            ]
          },
          "metadata": {
            "tags": []
          },
          "execution_count": 36
        }
      ]
    },
    {
      "cell_type": "code",
      "metadata": {
        "id": "xETj_hHh0WXq",
        "colab_type": "code",
        "colab": {
          "base_uri": "https://localhost:8080/",
          "height": 36
        },
        "outputId": "5c7052ba-3ad6-414a-882f-1e2ebd7282ae"
      },
      "source": [
        "img_path2 = '/content/drive/My Drive/t02.png'  #Image is Mercedies\n",
        "new_image2 = load_image(img_path2)\n",
        "pred2 = model.predict(new_image2)\n",
        "categories[np.argmax(pred2)]"
      ],
      "execution_count": 37,
      "outputs": [
        {
          "output_type": "execute_result",
          "data": {
            "text/plain": [
              "'Mercedes'"
            ]
          },
          "metadata": {
            "tags": []
          },
          "execution_count": 37
        }
      ]
    },
    {
      "cell_type": "code",
      "metadata": {
        "id": "SwvwEl2iHAb0",
        "colab_type": "code",
        "colab": {}
      },
      "source": [
        ""
      ],
      "execution_count": 0,
      "outputs": []
    }
  ]
}